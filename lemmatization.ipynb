{
 "cells": [
  {
   "cell_type": "markdown",
   "id": "e9f8c51e-37f4-4e76-8d69-d35703e02487",
   "metadata": {},
   "source": [
    "Lemmatization"
   ]
  },
  {
   "cell_type": "code",
   "execution_count": 1,
   "id": "947d5d47-d2e3-43f0-bf7d-a177364280f0",
   "metadata": {},
   "outputs": [],
   "source": [
    "words = [\"eating\",\"ate\", \"gone\", \"going\", \"goes\", \"historical\", \"fairly\"]"
   ]
  },
  {
   "cell_type": "code",
   "execution_count": 6,
   "id": "5e80534c-dedf-4cef-b18b-52ed29309f15",
   "metadata": {},
   "outputs": [],
   "source": [
    "import nltk"
   ]
  },
  {
   "cell_type": "code",
   "execution_count": 7,
   "id": "b36b0c3c-3cb6-4d3f-bd21-9e1bf1481641",
   "metadata": {},
   "outputs": [
    {
     "name": "stderr",
     "output_type": "stream",
     "text": [
      "[nltk_data] Downloading package wordnet to\n",
      "[nltk_data]     /Users/deepalimane/nltk_data...\n"
     ]
    },
    {
     "data": {
      "text/plain": [
       "True"
      ]
     },
     "execution_count": 7,
     "metadata": {},
     "output_type": "execute_result"
    }
   ],
   "source": [
    "nltk.download('wordnet')"
   ]
  },
  {
   "cell_type": "code",
   "execution_count": 8,
   "id": "bf32e6c9-775f-47b2-997a-744174d90152",
   "metadata": {},
   "outputs": [],
   "source": [
    "Lemmatization = nltk.stem.WordNetLemmatizer()"
   ]
  },
  {
   "cell_type": "code",
   "execution_count": 10,
   "id": "8100677c-b4f2-4413-884f-f6c43b8af70a",
   "metadata": {},
   "outputs": [
    {
     "name": "stdout",
     "output_type": "stream",
     "text": [
      "eating---->eat\n",
      "ate---->eat\n",
      "gone---->go\n",
      "going---->go\n",
      "goes---->go\n",
      "historical---->historical\n",
      "fairly---->fairly\n"
     ]
    }
   ],
   "source": [
    "for word in words:\n",
    "    print(word + \"---->\" + Lemmatization.lemmatize(word, pos=\"v\"))"
   ]
  },
  {
   "cell_type": "code",
   "execution_count": null,
   "id": "c9abb779-1552-4993-8544-b64111561313",
   "metadata": {},
   "outputs": [],
   "source": []
  },
  {
   "cell_type": "code",
   "execution_count": null,
   "id": "eb5dd94b-1021-4adf-b26a-763fcf229132",
   "metadata": {},
   "outputs": [],
   "source": []
  }
 ],
 "metadata": {
  "kernelspec": {
   "display_name": "Python 3 (ipykernel)",
   "language": "python",
   "name": "python3"
  },
  "language_info": {
   "codemirror_mode": {
    "name": "ipython",
    "version": 3
   },
   "file_extension": ".py",
   "mimetype": "text/x-python",
   "name": "python",
   "nbconvert_exporter": "python",
   "pygments_lexer": "ipython3",
   "version": "3.12.7"
  }
 },
 "nbformat": 4,
 "nbformat_minor": 5
}
