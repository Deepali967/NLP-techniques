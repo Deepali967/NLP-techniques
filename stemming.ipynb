{
 "cells": [
  {
   "cell_type": "markdown",
   "id": "8032bb6d-ce72-47ba-8528-9122d982c8e7",
   "metadata": {},
   "source": [
    "Stemming"
   ]
  },
  {
   "cell_type": "markdown",
   "id": "e59d94cf-9a5b-4d83-a86c-d64cfa496dcc",
   "metadata": {},
   "source": [
    "PorterStemmer"
   ]
  },
  {
   "cell_type": "code",
   "execution_count": 2,
   "id": "d820eeb6-97eb-4a1a-99b2-7570435f066f",
   "metadata": {},
   "outputs": [],
   "source": [
    "words = [\"eating\",\"ate\", \"gone\", \"going\", \"goes\", \"historical\", \"fairly\"]"
   ]
  },
  {
   "cell_type": "code",
   "execution_count": 5,
   "id": "f6ead780-a95c-4e29-956b-7172fc8e9c58",
   "metadata": {},
   "outputs": [],
   "source": [
    "from nltk.stem import PorterStemmer"
   ]
  },
  {
   "cell_type": "code",
   "execution_count": 6,
   "id": "3ce016e0-9778-4ee3-b36f-4f891f914aae",
   "metadata": {},
   "outputs": [],
   "source": [
    "Stemming = PorterStemmer()"
   ]
  },
  {
   "cell_type": "code",
   "execution_count": 7,
   "id": "16106151-fa51-4331-bede-641cb07b4484",
   "metadata": {},
   "outputs": [
    {
     "name": "stdout",
     "output_type": "stream",
     "text": [
      "eating---->eat\n",
      "ate---->ate\n",
      "gone---->gone\n",
      "going---->go\n",
      "goes---->goe\n",
      "historical---->histor\n",
      "fairly---->fairli\n"
     ]
    }
   ],
   "source": [
    "for word in words:\n",
    "    print(word + \"---->\" + Stemming.stem(word))"
   ]
  },
  {
   "cell_type": "code",
   "execution_count": null,
   "id": "db182256-4b9a-4c24-838f-e5ae0efd429b",
   "metadata": {},
   "outputs": [],
   "source": []
  }
 ],
 "metadata": {
  "kernelspec": {
   "display_name": "Python 3 (ipykernel)",
   "language": "python",
   "name": "python3"
  },
  "language_info": {
   "codemirror_mode": {
    "name": "ipython",
    "version": 3
   },
   "file_extension": ".py",
   "mimetype": "text/x-python",
   "name": "python",
   "nbconvert_exporter": "python",
   "pygments_lexer": "ipython3",
   "version": "3.12.7"
  }
 },
 "nbformat": 4,
 "nbformat_minor": 5
}
